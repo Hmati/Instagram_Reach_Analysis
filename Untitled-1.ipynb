{
 "cells": [
  {
   "cell_type": "code",
   "execution_count": 3,
   "metadata": {},
   "outputs": [
    {
     "name": "stdout",
     "output_type": "stream",
     "text": [
      "Username: N/A\n",
      "Followers: N/A\n",
      "Following: N/A\n"
     ]
    }
   ],
   "source": [
    "import requests\n",
    "from bs4 import BeautifulSoup\n",
    "\n",
    "# Define the Instagram profile URL\n",
    "profile_url = 'https://www.instagram.com/kasungwa__/'\n",
    "\n",
    "# Send an HTTP GET request to the profile URL\n",
    "response = requests.get(profile_url)\n",
    "\n",
    "# Parse the HTML content of the response using BeautifulSoup\n",
    "soup = BeautifulSoup(response.content, 'html.parser')\n",
    "\n",
    "# Extract the desired information from the parsed HTML\n",
    "username_element = soup.find('h1', class_='rhpdm')\n",
    "follower_count_element = soup.find('span', class_='g47SY')\n",
    "following_count_elements = soup.find_all('span', class_='g47SY')\n",
    "\n",
    "# Check if the elements are found before accessing their text attributes\n",
    "username = username_element.text.strip() if username_element else 'N/A'\n",
    "follower_count = follower_count_element.text.strip().replace(',', '') if follower_count_element else 'N/A'\n",
    "following_count = following_count_elements[1].text.strip().replace(',', '') if len(following_count_elements) >= 2 else 'N/A'\n",
    "\n",
    "# Print the extracted information\n",
    "print('Username:', username)\n",
    "print('Followers:', follower_count)\n",
    "print('Following:', following_count)\n",
    "\n"
   ]
  }
 ],
 "metadata": {
  "kernelspec": {
   "display_name": "Python 3",
   "language": "python",
   "name": "python3"
  },
  "language_info": {
   "codemirror_mode": {
    "name": "ipython",
    "version": 3
   },
   "file_extension": ".py",
   "mimetype": "text/x-python",
   "name": "python",
   "nbconvert_exporter": "python",
   "pygments_lexer": "ipython3",
   "version": "3.10.2"
  },
  "orig_nbformat": 4
 },
 "nbformat": 4,
 "nbformat_minor": 2
}
